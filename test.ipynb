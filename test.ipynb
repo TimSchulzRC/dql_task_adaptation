{
 "cells": [
  {
   "cell_type": "code",
   "execution_count": 1,
   "metadata": {},
   "outputs": [],
   "source": [
    "REGULATION = 0.4\n",
    "SYNTAX_ELEMENT_COUNT_CAP = 10\n",
    "\n",
    "def calc_complexity(frequency):\n",
    "    regulation = REGULATION\n",
    "    if(frequency>=SYNTAX_ELEMENT_COUNT_CAP): return 1\n",
    "    return ((frequency**(1 / regulation)) / (10 + (frequency**(1 / regulation))))\n",
    "\n",
    "def calc_frequency(complexity):\n",
    "    regulation = REGULATION\n",
    "    if complexity >= 1:\n",
    "        return SYNTAX_ELEMENT_COUNT_CAP\n",
    "    if complexity <= 0:\n",
    "        return 0\n",
    "    x = (10 * complexity / (1 - complexity)) ** regulation\n",
    "    if x > SYNTAX_ELEMENT_COUNT_CAP:\n",
    "        return SYNTAX_ELEMENT_COUNT_CAP\n",
    "    return round(x)"
   ]
  },
  {
   "cell_type": "code",
   "execution_count": 22,
   "metadata": {},
   "outputs": [
    {
     "name": "stdout",
     "output_type": "stream",
     "text": [
      "0.6091987924391682\n",
      "3\n",
      "h1 = h2:  True\n"
     ]
    }
   ],
   "source": [
    "h1=3\n",
    "c1 = calc_complexity(h1)\n",
    "print(c1)\n",
    "h2 = calc_frequency(c1)\n",
    "print(h2)\n",
    "\n",
    "print(\"h1 = h2: \", h1 == h2)"
   ]
  },
  {
   "cell_type": "code",
   "execution_count": 24,
   "metadata": {},
   "outputs": [
    {
     "name": "stdout",
     "output_type": "stream",
     "text": [
      "3\n",
      "0.6091987924391682\n",
      "c1 = c2:  False\n"
     ]
    }
   ],
   "source": [
    "c1 = 0.5\n",
    "h1 = calc_frequency(c1)\n",
    "print(h1)\n",
    "c2 = calc_complexity(h1)\n",
    "print(c2)\n",
    "\n",
    "print(\"c1 = c2: \", c1 == c2)"
   ]
  }
 ],
 "metadata": {
  "kernelspec": {
   "display_name": ".venv",
   "language": "python",
   "name": "python3"
  },
  "language_info": {
   "codemirror_mode": {
    "name": "ipython",
    "version": 3
   },
   "file_extension": ".py",
   "mimetype": "text/x-python",
   "name": "python",
   "nbconvert_exporter": "python",
   "pygments_lexer": "ipython3",
   "version": "3.13.2"
  }
 },
 "nbformat": 4,
 "nbformat_minor": 2
}

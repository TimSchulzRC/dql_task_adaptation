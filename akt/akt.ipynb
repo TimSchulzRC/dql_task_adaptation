{
 "cells": [
  {
   "cell_type": "markdown",
   "metadata": {},
   "source": [
    "# Train Model"
   ]
  },
  {
   "cell_type": "code",
   "execution_count": 2,
   "metadata": {},
   "outputs": [],
   "source": [
    "from load_data import DATA, PID_DATA\n",
    "import numpy as np\n",
    "\n",
    "n_question = 123 # from prepare_dataset\n",
    "n_pid = 0 # from prepare_dataset, 0 if not used\n",
    "seqlen = 200\n",
    "\n",
    "model_type = 'pid'\n",
    "batch_size = 64\n",
    "n_blocks = 1\n",
    "d_model = 256\n",
    "dropout = 0.05\n",
    "kq_same = 1\n",
    "l2 = 1e-5\n",
    "maxgradnorm = -1\n"
   ]
  },
  {
   "cell_type": "code",
   "execution_count": 3,
   "metadata": {},
   "outputs": [],
   "source": [
    "import logging\n",
    "logging.getLogger().setLevel(logging.INFO)"
   ]
  },
  {
   "cell_type": "code",
   "execution_count": 5,
   "metadata": {},
   "outputs": [],
   "source": [
    "\n",
    "def load_train_val_data(dat):\n",
    "    train_pid = dat.load_data('train_pid.txt')\n",
    "    # Split train_pid into training and validation data (80/20 split)\n",
    "    total_samples = train_pid[0].shape[0]\n",
    "    val_size = int(total_samples * 0.2)  # 20% for validation\n",
    "    indices = np.arange(total_samples)\n",
    "    np.random.shuffle(indices)\n",
    "\n",
    "    train_indices = indices[val_size:]\n",
    "    val_indices = indices[:val_size]\n",
    "\n",
    "    # Extract train and validation data\n",
    "    train_data = [x[train_indices] for x in train_pid]\n",
    "    val_data = [x[val_indices] for x in train_pid]\n",
    "    return train_data, val_data"
   ]
  },
  {
   "cell_type": "code",
   "execution_count": 6,
   "metadata": {},
   "outputs": [],
   "source": [
    "if model_type == 'pid':\n",
    "    dat = PID_DATA(n_question=n_question, seqlen=seqlen, separate_char=',')\n",
    "else:\n",
    "    dat = DATA(n_question=n_question, seqlen=seqlen, separate_char=',')\n",
    "train_data = dat.load_data('train_pid.txt')\n",
    "test_data, val_data = load_train_val_data(dat)"
   ]
  },
  {
   "cell_type": "code",
   "execution_count": null,
   "metadata": {},
   "outputs": [
    {
     "name": "stdout",
     "output_type": "stream",
     "text": [
      "[Epoch 0] LogisticLoss: 0.581161\n",
      "[Epoch 0] auc: 0.800219, accuracy: 0.847499\n",
      "[Epoch 1] LogisticLoss: 0.385175\n",
      "[Epoch 1] auc: 0.807163, accuracy: 0.891226\n",
      "[Epoch 2] LogisticLoss: 0.068194\n",
      "[Epoch 2] auc: 0.809714, accuracy: 0.890795\n",
      "[Epoch 3] LogisticLoss: 0.011556\n",
      "[Epoch 3] auc: 0.806177, accuracy: 0.887173\n",
      "[Epoch 4] LogisticLoss: 0.009903\n",
      "[Epoch 4] auc: 0.803134, accuracy: 0.884862\n",
      "[Epoch 5] LogisticLoss: 0.009660\n",
      "[Epoch 5] auc: 0.805191, accuracy: 0.885283\n",
      "[Epoch 6] LogisticLoss: 0.009337\n",
      "[Epoch 6] auc: 0.802748, accuracy: 0.882611\n",
      "[Epoch 7] LogisticLoss: 0.009374\n",
      "[Epoch 7] auc: 0.799726, accuracy: 0.878146\n",
      "[Epoch 8] LogisticLoss: 0.009334\n",
      "[Epoch 8] auc: 0.800090, accuracy: 0.875353\n",
      "[Epoch 9] LogisticLoss: 0.009299\n"
     ]
    },
    {
     "name": "stderr",
     "output_type": "stream",
     "text": [
      "INFO:root:save parameters to akt.params\n"
     ]
    },
    {
     "name": "stdout",
     "output_type": "stream",
     "text": [
      "[Epoch 9] auc: 0.799833, accuracy: 0.880176\n"
     ]
    }
   ],
   "source": [
    "from EduKTM import AKT\n",
    "\n",
    "akt = AKT(n_question, n_pid, n_blocks, d_model, dropout, kq_same, l2, batch_size, maxgradnorm)\n",
    "akt.train(train_data, val_data, epoch=100)\n",
    "akt.save(\"akt.params\")"
   ]
  },
  {
   "cell_type": "code",
   "execution_count": 9,
   "metadata": {},
   "outputs": [
    {
     "name": "stderr",
     "output_type": "stream",
     "text": [
      "INFO:root:load parameters from akt.params\n"
     ]
    },
    {
     "name": "stdout",
     "output_type": "stream",
     "text": [
      "auc: 0.884144, accuracy: 0.801556\n"
     ]
    }
   ],
   "source": [
    "akt.load(\"akt.params\")\n",
    "_, auc, accuracy = akt.eval(test_data)\n",
    "print(\"auc: %.6f, accuracy: %.6f\" % (auc, accuracy))"
   ]
  },
  {
   "cell_type": "code",
   "execution_count": 7,
   "metadata": {},
   "outputs": [
    {
     "name": "stderr",
     "output_type": "stream",
     "text": [
      "[I 2025-04-14 15:25:11,157] Using an existing study with name 'akt' instead of creating a new one.\n"
     ]
    },
    {
     "name": "stdout",
     "output_type": "stream",
     "text": [
      "[Epoch 0] LogisticLoss: 0.509249\n",
      "[Epoch 0] auc: 0.819126, accuracy: 0.902020\n",
      "[Epoch 1] LogisticLoss: 0.269318\n",
      "[Epoch 1] auc: 0.867092, accuracy: 0.951459\n"
     ]
    },
    {
     "name": "stderr",
     "output_type": "stream",
     "text": [
      "[I 2025-04-14 15:29:08,424] Trial 2 finished with value: 0.9514589048113731 and parameters: {'n_blocks': 2, 'd_model': 512, 'dropout': 0.08173798056238564, 'kq_same': 1, 'l2': 9.826625022837036e-05, 'batch_size': 128, 'lr': 0.00024558685272735867, 'maxgradnorm': 0.1}. Best is trial 2 with value: 0.9514589048113731.\n"
     ]
    },
    {
     "name": "stdout",
     "output_type": "stream",
     "text": [
      "[Epoch 0] LogisticLoss: 0.569346\n",
      "[Epoch 0] auc: 0.728580, accuracy: 0.790274\n",
      "[Epoch 1] LogisticLoss: 0.322977\n",
      "[Epoch 1] auc: 0.729251, accuracy: 0.809128\n"
     ]
    },
    {
     "name": "stderr",
     "output_type": "stream",
     "text": [
      "[I 2025-04-14 15:29:55,624] Trial 3 finished with value: 0.8091275293637263 and parameters: {'n_blocks': 3, 'd_model': 256, 'dropout': 0.18606546647836497, 'kq_same': 1, 'l2': 3.218483269993882e-06, 'batch_size': 32, 'lr': 0.0009186304740101928, 'maxgradnorm': 0.5}. Best is trial 2 with value: 0.9514589048113731.\n"
     ]
    },
    {
     "name": "stdout",
     "output_type": "stream",
     "text": [
      "[Epoch 0] LogisticLoss: 0.658098\n",
      "[Epoch 0] auc: 0.667168, accuracy: 0.598543\n",
      "[Epoch 1] LogisticLoss: 0.633026\n",
      "[Epoch 1] auc: 0.669862, accuracy: 0.621056\n"
     ]
    },
    {
     "name": "stderr",
     "output_type": "stream",
     "text": [
      "[I 2025-04-14 15:30:26,019] Trial 4 finished with value: 0.621056041043824 and parameters: {'n_blocks': 2, 'd_model': 256, 'dropout': 0.06572491840264752, 'kq_same': 0, 'l2': 6.854363757561154e-05, 'batch_size': 64, 'lr': 0.0018861328141892757, 'maxgradnorm': 0.1}. Best is trial 2 with value: 0.9514589048113731.\n"
     ]
    },
    {
     "name": "stdout",
     "output_type": "stream",
     "text": [
      "[Epoch 0] LogisticLoss: 0.600053\n",
      "[Epoch 0] auc: 0.738275, accuracy: 0.757051\n",
      "[Epoch 1] LogisticLoss: 0.533291\n",
      "[Epoch 1] auc: 0.759941, accuracy: 0.807265\n"
     ]
    },
    {
     "name": "stderr",
     "output_type": "stream",
     "text": [
      "[I 2025-04-14 15:30:36,675] Trial 5 finished with value: 0.807264824454631 and parameters: {'n_blocks': 1, 'd_model': 64, 'dropout': 0.16580459910662274, 'kq_same': 0, 'l2': 2.0109913185579326e-05, 'batch_size': 64, 'lr': 0.0006384985634215118, 'maxgradnorm': -1}. Best is trial 2 with value: 0.9514589048113731.\n"
     ]
    },
    {
     "name": "stdout",
     "output_type": "stream",
     "text": [
      "[Epoch 0] LogisticLoss: 0.623986\n",
      "[Epoch 0] auc: 0.712286, accuracy: 0.709972\n",
      "[Epoch 1] LogisticLoss: 0.561400\n",
      "[Epoch 1] auc: 0.743548, accuracy: 0.772464\n"
     ]
    },
    {
     "name": "stderr",
     "output_type": "stream",
     "text": [
      "[I 2025-04-14 15:35:43,908] Trial 6 finished with value: 0.7724635476391508 and parameters: {'n_blocks': 3, 'd_model': 64, 'dropout': 0.10201642958840942, 'kq_same': 1, 'l2': 5.8793015267935034e-06, 'batch_size': 128, 'lr': 0.00015638247003298085, 'maxgradnorm': 5.0}. Best is trial 2 with value: 0.9514589048113731.\n"
     ]
    },
    {
     "name": "stdout",
     "output_type": "stream",
     "text": [
      "[Epoch 0] LogisticLoss: 0.645192\n",
      "[Epoch 0] auc: 0.643234, accuracy: 0.615632\n",
      "[Epoch 1] LogisticLoss: 0.628357\n",
      "[Epoch 1] auc: 0.654695, accuracy: 0.609804\n"
     ]
    },
    {
     "name": "stderr",
     "output_type": "stream",
     "text": [
      "[I 2025-04-14 15:42:33,211] Trial 7 finished with value: 0.6098037109551409 and parameters: {'n_blocks': 3, 'd_model': 512, 'dropout': 0.18344949187708, 'kq_same': 0, 'l2': 4.335737339005186e-05, 'batch_size': 64, 'lr': 0.0008686129951046406, 'maxgradnorm': 1.0}. Best is trial 2 with value: 0.9514589048113731.\n"
     ]
    },
    {
     "name": "stdout",
     "output_type": "stream",
     "text": [
      "[Epoch 0] LogisticLoss: 0.638353\n",
      "[Epoch 0] auc: 0.663717, accuracy: 0.591814\n",
      "[Epoch 1] LogisticLoss: 0.626989\n",
      "[Epoch 1] auc: 0.662318, accuracy: 0.611960\n"
     ]
    },
    {
     "name": "stderr",
     "output_type": "stream",
     "text": [
      "[I 2025-04-14 15:47:18,318] Trial 8 finished with value: 0.6119595613135487 and parameters: {'n_blocks': 3, 'd_model': 64, 'dropout': 0.12579973306383005, 'kq_same': 1, 'l2': 8.064867341588097e-06, 'batch_size': 32, 'lr': 0.0013349389947017, 'maxgradnorm': 0.1}. Best is trial 2 with value: 0.9514589048113731.\n"
     ]
    },
    {
     "name": "stdout",
     "output_type": "stream",
     "text": [
      "[Epoch 0] LogisticLoss: 0.839415\n",
      "[Epoch 0] auc: 0.661474, accuracy: 0.611212\n",
      "[Epoch 1] LogisticLoss: 0.643651\n",
      "[Epoch 1] auc: 0.634389, accuracy: 0.599506\n"
     ]
    },
    {
     "name": "stderr",
     "output_type": "stream",
     "text": [
      "[I 2025-04-14 15:51:17,531] Trial 9 finished with value: 0.5995060329678024 and parameters: {'n_blocks': 2, 'd_model': 512, 'dropout': 0.18282117882849494, 'kq_same': 1, 'l2': 1.0822347588533754e-05, 'batch_size': 64, 'lr': 0.006389994178744251, 'maxgradnorm': 0.1}. Best is trial 2 with value: 0.9514589048113731.\n"
     ]
    },
    {
     "name": "stdout",
     "output_type": "stream",
     "text": [
      "[Epoch 0] LogisticLoss: 0.549166\n",
      "[Epoch 0] auc: 0.826983, accuracy: 0.898701\n",
      "[Epoch 1] LogisticLoss: 0.280235\n",
      "[Epoch 1] auc: 0.914793, accuracy: 0.979421\n"
     ]
    },
    {
     "name": "stderr",
     "output_type": "stream",
     "text": [
      "[I 2025-04-14 15:55:47,771] Trial 10 finished with value: 0.9794209053486641 and parameters: {'n_blocks': 2, 'd_model': 512, 'dropout': 0.10048937628184572, 'kq_same': 0, 'l2': 5.536731898997498e-05, 'batch_size': 64, 'lr': 0.00041024417516263275, 'maxgradnorm': 5.0}. Best is trial 10 with value: 0.9794209053486641.\n"
     ]
    },
    {
     "name": "stdout",
     "output_type": "stream",
     "text": [
      "[Epoch 0] LogisticLoss: 0.686668\n",
      "[Epoch 0] auc: 0.671729, accuracy: 0.608080\n",
      "[Epoch 1] LogisticLoss: 0.640517\n",
      "[Epoch 1] auc: 0.673457, accuracy: 0.601861\n"
     ]
    },
    {
     "name": "stderr",
     "output_type": "stream",
     "text": [
      "[I 2025-04-14 15:57:52,582] Trial 11 finished with value: 0.6018612350121153 and parameters: {'n_blocks': 1, 'd_model': 128, 'dropout': 0.0436735047137334, 'kq_same': 1, 'l2': 1.6261407542684823e-05, 'batch_size': 128, 'lr': 0.004358457690683238, 'maxgradnorm': 5.0}. Best is trial 10 with value: 0.9794209053486641.\n"
     ]
    },
    {
     "name": "stdout",
     "output_type": "stream",
     "text": [
      "Best trial:\n",
      "  Value: 0.9794209053486641\n",
      "  Params: \n",
      "    n_blocks: 2\n",
      "    d_model: 512\n",
      "    dropout: 0.10048937628184572\n",
      "    kq_same: 0\n",
      "    l2: 5.536731898997498e-05\n",
      "    batch_size: 64\n",
      "    lr: 0.00041024417516263275\n",
      "    maxgradnorm: 5.0\n"
     ]
    },
    {
     "data": {
      "image/png": "[encoded data removed]",
      "text/plain": [
       "<Figure size 1000x600 with 1 Axes>"
      ]
     },
     "metadata": {},
     "output_type": "display_data"
    }
   ],
   "source": [
    "from EduKTM import AKT\n",
    "import optuna\n",
    "from optuna.visualization import plot_param_importances\n",
    "\n",
    "import matplotlib.pyplot as plt\n",
    "\n",
    "def objective(trial):\n",
    "    # Hyperparameters to be tuned\n",
    "    model_type = \"pid\" #trial.suggest_categorical('model_type', ['pid', 'no_pid'])\n",
    "    n_blocks = trial.suggest_int('n_blocks', 1, 3)\n",
    "    d_model = trial.suggest_categorical('d_model', [64, 128, 256, 512])\n",
    "    dropout = trial.suggest_float('dropout', 0.01, 0.2)\n",
    "    kq_same = trial.suggest_categorical('kq_same', [0, 1])\n",
    "    l2 = trial.suggest_float('l2', 1e-6, 1e-4, log=True)\n",
    "    batch_size = trial.suggest_categorical('batch_size', [32, 64, 128])\n",
    "    lr = trial.suggest_float('lr', 1e-4, 1e-2, log=True)\n",
    "    maxgradnorm = trial.suggest_categorical('maxgradnorm', [-1, 0.1, 0.5, 1.0, 5.0])\n",
    "    \n",
    "    if model_type == 'pid':\n",
    "        dat = PID_DATA(n_question=n_question, seqlen=seqlen, separate_char=',')\n",
    "    else:\n",
    "        dat = DATA(n_question=n_question, seqlen=seqlen, separate_char=',')\n",
    "        \n",
    "    \n",
    "    train_data, val_data = load_train_val_data(dat)\n",
    "    \n",
    "    # Create and train model with the suggested hyperparameters\n",
    "    akt = AKT(n_question, n_pid, n_blocks, d_model, dropout, kq_same, l2, batch_size, maxgradnorm)\n",
    "    akt.train(train_data, val_data, epoch=2, lr=lr)  # Using just 1 epoch for faster tuning\n",
    "    \n",
    "    # Evaluate and return AUC as the optimization metric\n",
    "    _, auc, _ = akt.eval(val_data)\n",
    "    return auc\n",
    "\n",
    "# Create an Optuna study\n",
    "study = optuna.create_study(direction='maximize', study_name=\"akt\", storage=\"sqlite:///../studies.db\", load_if_exists=True,)\n",
    "study.optimize(objective, n_trials=10,)  # Adjust n_trials as needed\n",
    "\n",
    "print(\"Best trial:\")\n",
    "trial = study.best_trial\n",
    "print(\"  Value: {}\".format(trial.value))\n",
    "print(\"  Params: \")\n",
    "for key, value in trial.params.items():\n",
    "    print(\"    {}: {}\".format(key, value))\n",
    "\n",
    "# Visualize parameter importances\n",
    "plt.figure(figsize=(10, 6))\n",
    "plot_param_importances(study)\n",
    "plt.title(\"Parameter Importances\")\n",
    "plt.tight_layout()\n",
    "plt.show()"
   ]
  },
  {
   "cell_type": "code",
   "execution_count": null,
   "metadata": {},
   "outputs": [],
   "source": [
    "model_type = 'pid'\n",
    "batch_size = 64\n",
    "n_blocks = 2\n",
    "d_model = 512\n",
    "dropout = 0.10048937628184572\n",
    "kq_same = 1\n",
    "l2 = 5.536731898997498e-05\n",
    "maxgradnorm = 5.0\n",
    "lr = 0.00041024417516263275"
   ]
  },
  {
   "cell_type": "code",
   "execution_count": 12,
   "metadata": {},
   "outputs": [
    {
     "name": "stdout",
     "output_type": "stream",
     "text": [
      "[Epoch 0] LogisticLoss: 0.390325\n"
     ]
    },
    {
     "name": "stderr",
     "output_type": "stream",
     "text": [
      "INFO:root:save parameters to akt.params\n"
     ]
    },
    {
     "name": "stdout",
     "output_type": "stream",
     "text": [
      "[Epoch 0] auc: 0.844054, accuracy: 0.924781\n"
     ]
    }
   ],
   "source": [
    "dat = PID_DATA(n_question=n_question, seqlen=seqlen, separate_char=',')\n",
    "# dat = DATA(n_question=n_question, seqlen=seqlen, separate_char=',')\n",
    "\n",
    "\n",
    "train_data, val_data = load_train_val_data(dat)\n",
    "test_data = dat.load_data('test_pid.txt')\n",
    "\n",
    "\n",
    "akt = AKT(n_question, n_pid, n_blocks, d_model, dropout, kq_same, l2, batch_size, maxgradnorm)\n",
    "akt.train(train_data, val_data, epoch=1, lr=lr)\n",
    "akt.save(\"akt.params\")"
   ]
  },
  {
   "cell_type": "code",
   "execution_count": 13,
   "metadata": {},
   "outputs": [
    {
     "name": "stderr",
     "output_type": "stream",
     "text": [
      "INFO:root:load parameters from akt.params\n"
     ]
    },
    {
     "name": "stdout",
     "output_type": "stream",
     "text": [
      "auc: 0.920688, accuracy: 0.835254\n"
     ]
    }
   ],
   "source": [
    "akt.load(\"akt.params\")\n",
    "_, auc, accuracy = akt.eval(test_data)\n",
    "print(\"auc: %.6f, accuracy: %.6f\" % (auc, accuracy))"
   ]
  }
 ],
 "metadata": {
  "kernelspec": {
   "display_name": ".venv",
   "language": "python",
   "name": "python3"
  },
  "language_info": {
   "codemirror_mode": {
    "name": "ipython",
    "version": 3
   },
   "file_extension": ".py",
   "mimetype": "text/x-python",
   "name": "python",
   "nbconvert_exporter": "python",
   "pygments_lexer": "ipython3",
   "version": "3.13.2"
  }
 },
 "nbformat": 4,
 "nbformat_minor": 2
}

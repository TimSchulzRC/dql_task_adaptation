{
 "cells": [
  {
   "cell_type": "markdown",
   "metadata": {},
   "source": [
    "# AKT Net"
   ]
  },
  {
   "cell_type": "markdown",
   "metadata": {},
   "source": [
    "# AKT Model"
   ]
  },
  {
   "cell_type": "markdown",
   "metadata": {},
   "source": [
    "# Train Model"
   ]
  },
  {
   "cell_type": "code",
   "execution_count": null,
   "metadata": {},
   "outputs": [],
   "source": [
    "from load_data import DATA, PID_DATA\n",
    "import numpy as np\n",
    "\n",
    "n_question = 9 # from prepare_dataset\n",
    "n_pid = 0 # from prepare_dataset, 0 if not used\n",
    "seqlen = 200\n",
    "\n",
    "model_type = 'pid'\n",
    "batch_size = 64\n",
    "n_blocks = 1\n",
    "d_model = 256\n",
    "dropout = 0.05\n",
    "kq_same = 1\n",
    "l2 = 1e-5\n",
    "maxgradnorm = -1\n"
   ]
  },
  {
   "cell_type": "code",
   "execution_count": null,
   "metadata": {},
   "outputs": [],
   "source": [
    "import logging\n",
    "logging.getLogger().setLevel(logging.INFO)"
   ]
  },
  {
   "cell_type": "code",
   "execution_count": null,
   "metadata": {},
   "outputs": [],
   "source": [
    "\n",
    "def load_train_val_data(dat):\n",
    "    train_pid = dat.load_data('train_pid.txt')\n",
    "    # Split train_pid into training and validation data (80/20 split)\n",
    "    total_samples = train_pid[0].shape[0]\n",
    "    val_size = int(total_samples * 0.2)  # 20% for validation\n",
    "    indices = np.arange(total_samples)\n",
    "    np.random.shuffle(indices)\n",
    "\n",
    "    train_indices = indices[val_size:]\n",
    "    val_indices = indices[:val_size]\n",
    "\n",
    "    # Extract train and validation data\n",
    "    train_data = [x[train_indices] for x in train_pid]\n",
    "    val_data = [x[val_indices] for x in train_pid]\n",
    "    return train_data, val_data"
   ]
  },
  {
   "cell_type": "code",
   "execution_count": null,
   "metadata": {},
   "outputs": [],
   "source": [
    "from EduKTM import AKT\n",
    "import optuna\n",
    "from optuna.visualization import plot_param_importances\n",
    "\n",
    "import matplotlib.pyplot as plt\n",
    "\n",
    "def objective(trial):\n",
    "    # Hyperparameters to be tuned\n",
    "    model_type = trial.suggest_categorical('model_type', ['pid', 'no_pid'])\n",
    "    n_blocks = trial.suggest_int('n_blocks', 1, 3)\n",
    "    d_model = trial.suggest_categorical('d_model', [64, 128, 256, 512])\n",
    "    dropout = trial.suggest_float('dropout', 0.01, 0.2)\n",
    "    kq_same = trial.suggest_categorical('kq_same', [0, 1])\n",
    "    l2 = trial.suggest_float('l2', 1e-6, 1e-4, log=True)\n",
    "    batch_size = trial.suggest_categorical('batch_size', [32, 64, 128])\n",
    "    lr = trial.suggest_float('lr', 1e-4, 1e-2, log=True)\n",
    "    maxgradnorm = trial.suggest_categorical('maxgradnorm', [-1, 0.1, 0.5, 1.0, 5.0])\n",
    "    \n",
    "    if model_type == 'pid':\n",
    "        dat = PID_DATA(n_question=n_question, seqlen=seqlen, separate_char=',')\n",
    "    else:\n",
    "        dat = DATA(n_question=n_question, seqlen=seqlen, separate_char=',')\n",
    "        \n",
    "    \n",
    "    train_data, val_data = load_train_val_data(dat)\n",
    "    \n",
    "    # Create and train model with the suggested hyperparameters\n",
    "    akt = AKT(n_question, n_pid, n_blocks, d_model, dropout, kq_same, l2, batch_size, maxgradnorm)\n",
    "    akt.train(train_data, val_data, epoch=10, lr=lr)  # Using just 1 epoch for faster tuning\n",
    "    \n",
    "    # Evaluate and return AUC as the optimization metric\n",
    "    _, auc, _ = akt.eval(val_data)\n",
    "    return auc\n",
    "\n",
    "# Create an Optuna study\n",
    "study = optuna.create_study(direction='maximize')\n",
    "study.optimize(objective, n_trials=10)  # Adjust n_trials as needed\n",
    "\n",
    "print(\"Best trial:\")\n",
    "trial = study.best_trial\n",
    "print(\"  Value: {}\".format(trial.value))\n",
    "print(\"  Params: \")\n",
    "for key, value in trial.params.items():\n",
    "    print(\"    {}: {}\".format(key, value))\n",
    "\n",
    "# Visualize parameter importances\n",
    "plt.figure(figsize=(10, 6))\n",
    "plot_param_importances(study)\n",
    "plt.title(\"Parameter Importances\")\n",
    "plt.tight_layout()\n",
    "plt.show()"
   ]
  },
  {
   "cell_type": "code",
   "execution_count": null,
   "metadata": {},
   "outputs": [],
   "source": [
    "if(study.best_params['model_type'] == 'pid'):\n",
    "    dat = PID_DATA(n_question=n_question, seqlen=seqlen, separate_char=',')\n",
    "else:\n",
    "    dat = DATA(n_question=n_question, seqlen=seqlen, separate_char=',')\n",
    "\n",
    "\n",
    "train_data, val_data = load_train_val_data(dat)\n",
    "test_data = dat.load_data('test_pid.txt')\n",
    "\n",
    "\n",
    "akt = AKT(n_question, n_pid, n_blocks, d_model, dropout, kq_same, l2, batch_size, maxgradnorm)\n",
    "akt.train(train_data, val_data, epoch=2)\n",
    "akt.save(\"akt.params\")"
   ]
  },
  {
   "cell_type": "code",
   "execution_count": null,
   "metadata": {},
   "outputs": [],
   "source": [
    "akt.load(\"akt.params\")\n",
    "_, auc, accuracy = akt.eval(test_data)\n",
    "print(\"auc: %.6f, accuracy: %.6f\" % (auc, accuracy))"
   ]
  }
 ],
 "metadata": {
  "kernelspec": {
   "display_name": ".venv",
   "language": "python",
   "name": "python3"
  },
  "language_info": {
   "codemirror_mode": {
    "name": "ipython",
    "version": 3
   },
   "file_extension": ".py",
   "mimetype": "text/x-python",
   "name": "python",
   "nbconvert_exporter": "python",
   "pygments_lexer": "ipython3",
   "version": "3.13.2"
  }
 },
 "nbformat": 4,
 "nbformat_minor": 2
}

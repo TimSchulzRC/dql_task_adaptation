{
 "cells": [
  {
   "cell_type": "code",
   "execution_count": 12,
   "metadata": {},
   "outputs": [],
   "source": [
    "import random\n",
    "import pandas as pd\n",
    "import tqdm\n",
    "\n",
    "data = pd.read_csv(\n",
    "    '../dataset.csv',\n",
    "    usecols=['order_id', 'user_id', 'skill_id', 'problem_id', 'correct']\n",
    ").dropna(subset=['skill_id', 'problem_id'])"
   ]
  },
  {
   "cell_type": "code",
   "execution_count": 13,
   "metadata": {},
   "outputs": [
    {
     "name": "stdout",
     "output_type": "stream",
     "text": [
      "number of skills: 9\n",
      "number of problems: 106173\n"
     ]
    }
   ],
   "source": [
    "'''\n",
    "This is a example for pid.\n",
    "If the dataset you use doesn't have the field of problem id, please remove problem id used in this example.\n",
    "'''\n",
    "raw_skill = data.skill_id.unique().tolist()\n",
    "raw_problem = data.problem_id.unique().tolist()\n",
    "num_skill = len(raw_skill)\n",
    "n_problem = len(raw_problem)\n",
    "\n",
    "# question id from 1 to #num_skill\n",
    "skills = { p: i+1 for i, p in enumerate(raw_skill) }\n",
    "problems = { p: i+1 for i, p in enumerate(raw_problem) }\n",
    "\n",
    "print(\"number of skills: %d\" % num_skill)\n",
    "print(\"number of problems: %d\" % n_problem)"
   ]
  },
  {
   "cell_type": "code",
   "execution_count": 14,
   "metadata": {},
   "outputs": [
    {
     "name": "stderr",
     "output_type": "stream",
     "text": [
      "parse student sequence:\t: 100%|██████████| 9000/9000 [00:04<00:00, 1933.90it/s]\n"
     ]
    }
   ],
   "source": [
    "def parse_all_seq(students):\n",
    "    all_sequences = []\n",
    "    for student_id in tqdm.tqdm(students, 'parse student sequence:\\t'):\n",
    "        student_sequence = parse_student_seq(data[data.user_id == student_id])\n",
    "        all_sequences.extend([student_sequence])\n",
    "    return all_sequences\n",
    "\n",
    "\n",
    "def parse_student_seq(student):\n",
    "    seq = student.sort_values('order_id')\n",
    "    s = [skills[q] for q in seq.skill_id.tolist()]\n",
    "    p = [problems[q] for q in seq.problem_id.tolist()]\n",
    "    a = seq.correct.tolist()\n",
    "    return s, p, a\n",
    "\n",
    "\n",
    "# [(skill_seq_0, problem_seq_0, answer_seq_0), ..., (skill_seq_n, problem_seq_n, answer_seq_n)]\n",
    "sequences = parse_all_seq(data.user_id.unique())"
   ]
  },
  {
   "cell_type": "code",
   "execution_count": 15,
   "metadata": {},
   "outputs": [],
   "source": [
    "def train_test_split(data, train_size=.7, shuffle=True):\n",
    "    if shuffle:\n",
    "        random.shuffle(data)\n",
    "    boundary = round(len(data) * train_size)\n",
    "    return data[: boundary], data[boundary:]\n",
    "\n",
    "\n",
    "train_sequences, test_sequences = train_test_split(sequences)"
   ]
  },
  {
   "cell_type": "code",
   "execution_count": 16,
   "metadata": {
    "pycharm": {
     "name": "#%%\n"
    }
   },
   "outputs": [
    {
     "name": "stderr",
     "output_type": "stream",
     "text": [
      "write into file: 100%|██████████| 6300/6300 [00:00<00:00, 45500.53it/s]\n",
      "write into file: 100%|██████████| 2700/2700 [00:00<00:00, 48949.32it/s]\n"
     ]
    }
   ],
   "source": [
    "def sequences2l(sequences, trgpath):\n",
    "    with open(trgpath, 'a', encoding='utf8') as f:\n",
    "        for seq in tqdm.tqdm(sequences, 'write into file: '):\n",
    "            skills, problems, answers = seq\n",
    "            seq_len = len(skills)\n",
    "            f.write(str(seq_len) + '\\n')\n",
    "            f.write(','.join([str(q) for q in problems]) + '\\n')\n",
    "            f.write(','.join([str(q) for q in skills]) + '\\n')\n",
    "            f.write(','.join([str(a) for a in answers]) + '\\n')\n",
    "\n",
    "\n",
    "# save triple line format for other tasks\n",
    "sequences2l(train_sequences, 'train_pid.txt')\n",
    "sequences2l(test_sequences, 'test_pid.txt')\n"
   ]
  }
 ],
 "metadata": {
  "kernelspec": {
   "display_name": ".venv",
   "language": "python",
   "name": "python3"
  },
  "language_info": {
   "codemirror_mode": {
    "name": "ipython",
    "version": 3
   },
   "file_extension": ".py",
   "mimetype": "text/x-python",
   "name": "python",
   "nbconvert_exporter": "python",
   "pygments_lexer": "ipython3",
   "version": "3.13.2"
  }
 },
 "nbformat": 4,
 "nbformat_minor": 1
}

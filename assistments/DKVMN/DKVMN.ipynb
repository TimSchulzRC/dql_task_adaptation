{
 "cells": [
  {
   "cell_type": "markdown",
   "metadata": {},
   "source": [
    "# Dynamic Key-Value Memory Network(DKVMN)\n",
    "\n",
    "This notebook will show you how to train and use the DKVMN.\n",
    "First, we will show how to get the data (here we use assistment-2009-2010-skill as the dataset).\n",
    "Then we will show how to train a DKVMN and perform the parameters persistence.\n",
    "At last, we will show how to load the parameters from the file and evaluate on the test dataset.\n",
    "\n",
    "The script version could be found in [DKVMN.py](DKVMN.ipynb)\n"
   ]
  },
  {
   "cell_type": "markdown",
   "metadata": {},
   "source": [
    "## Parameters Initialization\n",
    "First of all, we need to initialize the parameters"
   ]
  },
  {
   "cell_type": "code",
   "execution_count": null,
   "metadata": {},
   "outputs": [],
   "source": [
    "params = {\n",
    "    'max_iter': 50, # 'number of iterations'\n",
    "    'show': True, # 'print progress')\n",
    "    'init_std': 0.1, # 'weight initialization std'\n",
    "    'init_lr': 0.01, # 'initial learning rate'\n",
    "    'lr_decay': 0.75, # 'learning rate decay'\n",
    "    'final_lr': 1E-5, # 'learning rate will not decrease after hitting this threshold'\n",
    "    'momentum': 0.9, # 'momentum rate'\n",
    "    'maxgradnorm': 50.0, # 'maximum gradient norm'\n",
    "    'final_fc_dim': 50, # 'hidden state dim for final fc layer'\n",
    "    'key_embedding_dim': 50, # 'question embedding dimensions')\n",
    "    'batch_size': 64, # 'the batch size')\n",
    "    'value_embedding_dim': 200, # 'answer and question embedding dimensions')\n",
    "    'memory_size': 20, # 'memory size')\n",
    "    'n_question': 123, # 'the number of unique questions in the dataset')\n",
    "    'seqlen': 200, # 'the allowed maximum length of a sequence')\n",
    "    'data_name': '', # 'data set name')\n",
    "    'load': 'dkvmn.params', # 'model file to load')\n",
    "    'save': 'dkvmn.params' # 'path to save model')\n",
    "}\n",
    "\n",
    "params['lr'] = params['init_lr']\n",
    "params['key_memory_state_dim'] = params['key_embedding_dim']\n",
    "params['value_memory_state_dim'] = params['value_embedding_dim']"
   ]
  },
  {
   "cell_type": "markdown",
   "metadata": {},
   "source": [
    "## Data Preparation\n",
    "\n",
    "Before we process the data, we need to first acquire the dataset which is shown in [prepare_dataset.ipynb](prepare_dataset.ipynb)\n"
   ]
  },
  {
   "cell_type": "code",
   "execution_count": null,
   "metadata": {},
   "outputs": [],
   "source": [
    "from load_data import Data\n",
    "\n",
    "dat = Data(n_question=params['n_question'], seqlen=params['seqlen'], separate_char=',') \n",
    "\n",
    "train_data_path =  \"train.txt\"\n",
    "test_data_path = \"test.txt\"\n",
    "train_data = dat.load_data(train_data_path)\n",
    "test_data = dat.load_data(test_data_path)\n"
   ]
  },
  {
   "cell_type": "markdown",
   "metadata": {},
   "source": [
    "## Training and Persistence"
   ]
  },
  {
   "cell_type": "code",
   "execution_count": null,
   "metadata": {},
   "outputs": [
    {
     "name": "stderr",
     "output_type": "stream",
     "text": [
      "Epoch 0: 100%|██████████| 54/54 [00:14<00:00,  3.65it/s]\n"
     ]
    },
    {
     "name": "stdout",
     "output_type": "stream",
     "text": [
      "Epoch 1/50, loss : 0.59279, auc : 0.69097, accuracy : 0.68996\n"
     ]
    },
    {
     "name": "stderr",
     "output_type": "stream",
     "text": [
      "Epoch 1:  22%|██▏       | 12/54 [00:02<00:06,  6.65it/s]"
     ]
    }
   ],
   "source": [
    "from EduKTM import DKVMN\n",
    "\n",
    "dkvmn = DKVMN(n_question=params['n_question'],\n",
    "                  batch_size=params['batch_size'],\n",
    "                  key_embedding_dim=params['key_embedding_dim'],\n",
    "                  value_embedding_dim=params['value_embedding_dim'],\n",
    "                  memory_size=params['memory_size'],\n",
    "                  key_memory_state_dim=params['key_memory_state_dim'],\n",
    "                  value_memory_state_dim=params['value_memory_state_dim'],\n",
    "                  final_fc_dim=params['final_fc_dim'])\n",
    "\n",
    "dkvmn.train(params, train_data)\n",
    "dkvmn.save(params['save'])"
   ]
  },
  {
   "cell_type": "markdown",
   "metadata": {},
   "source": [
    "## Loading and Testing"
   ]
  },
  {
   "cell_type": "code",
   "execution_count": null,
   "metadata": {},
   "outputs": [],
   "source": [
    "dkvmn.load(params['load'])\n",
    "dkvmn.eval(params, test_data)"
   ]
  }
 ],
 "metadata": {
  "kernelspec": {
   "display_name": ".venv",
   "language": "python",
   "name": "python3"
  },
  "language_info": {
   "codemirror_mode": {
    "name": "ipython",
    "version": 3
   },
   "file_extension": ".py",
   "mimetype": "text/x-python",
   "name": "python",
   "nbconvert_exporter": "python",
   "pygments_lexer": "ipython3",
   "version": "3.13.3"
  },
  "orig_nbformat": 4
 },
 "nbformat": 4,
 "nbformat_minor": 2
}

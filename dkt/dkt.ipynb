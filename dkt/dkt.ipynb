{
 "cells": [
  {
   "cell_type": "markdown",
   "metadata": {},
   "source": [
    "# Model Training"
   ]
  },
  {
   "cell_type": "code",
   "execution_count": null,
   "metadata": {},
   "outputs": [],
   "source": [
    "from EduKTM import DKT\n",
    "import torch\n",
    "import torch.utils.data as Data\n",
    "import numpy as np\n",
    "import tqdm\n",
    "from sklearn.metrics import roc_auc_score\n",
    "import optuna"
   ]
  },
  {
   "cell_type": "code",
   "execution_count": null,
   "metadata": {},
   "outputs": [],
   "source": [
    "NUM_QUESTIONS = 9\n",
    "\n",
    "def get_data_loader(data_path, batch_size, shuffle=False, data_percentage=1.0):\n",
    "    data = torch.FloatTensor(np.load(data_path))\n",
    "    # Select only a percentage of the data\n",
    "    if data_percentage < 1.0:\n",
    "        total_samples = len(data)\n",
    "        samples_to_keep = int(total_samples * data_percentage)\n",
    "        if shuffle:\n",
    "            indices = torch.randperm(total_samples)[:samples_to_keep]\n",
    "            data = data[indices]\n",
    "        else:\n",
    "            data = data[:samples_to_keep]\n",
    "    \n",
    "    data_loader = Data.DataLoader(data, batch_size=batch_size, shuffle=shuffle)\n",
    "    return data_loader"
   ]
  },
  {
   "cell_type": "code",
   "execution_count": null,
   "metadata": {},
   "outputs": [],
   "source": [
    "def importance_objective(trial):\n",
    "    # Define hyperparameters to optimize\n",
    "    hidden_size = trial.suggest_categorical('hidden_size', [5, 10, 20, 50, 100])\n",
    "    num_layer = trial.suggest_int('num_layers', 1, 3)\n",
    "    batch_size = trial.suggest_categorical('batch_size', [16, 32, 64, 128])\n",
    "    lr = trial.suggest_float('learning_rate', 1e-4, 1e-1, log=True)\n",
    "    \n",
    "    train_subset_loader = get_data_loader( '../train_data.npy', batch_size, True, 0.1)\n",
    "    test_subset_loader = get_data_loader( '../test_data.npy', batch_size, False, 0.1)\n",
    "    \n",
    "    # Initialize and train model\n",
    "    dkt_model = DKT(NUM_QUESTIONS, hidden_size, num_layer)\n",
    "    dkt_model.train(train_subset_loader, test_subset_loader, epoch=10, lr=lr)\n",
    "    \n",
    "    # Return the AUC score to be maximized\n",
    "    return dkt_model.eval(test_subset_loader)\n",
    "\n",
    "def plot_param_importance():\n",
    "    study = optuna.create_study(study_name=\"importances\", storage=\"sqlite:///importancees_study.db\", load_if_exists=True, direction='maximize')\n",
    "        \n",
    "    study.optimize(importance_objective, n_trials=10, n_jobs=4)\n",
    "    \n",
    "    print(f\"Best parameters: {study.best_params}\")\n",
    "    print(f\"Best AUC: {study.best_value}\")"
   ]
  },
  {
   "cell_type": "code",
   "execution_count": null,
   "metadata": {},
   "outputs": [],
   "source": [
    "plot_param_importance()"
   ]
  },
  {
   "cell_type": "code",
   "execution_count": null,
   "metadata": {},
   "outputs": [],
   "source": [
    "\n",
    "\n",
    "def objective(trial):\n",
    "    # Define hyperparameters to optimize\n",
    "    hidden_size = trial.suggest_categorical('hidden_size', [5, 10, 20, 50, 100])\n",
    "    num_layer = trial.suggest_int('num_layers', 1, 3)\n",
    "    batch_size = trial.suggest_categorical('batch_size', [16, 32, 64, 128])\n",
    "    lr = trial.suggest_float('learning_rate', 1e-4, 1e-1, log=True)\n",
    "    \n",
    "    # Get data loaders\n",
    "    train_loader = get_data_loader('../train_data.npy', batch_size, True)\n",
    "    test_loader = get_data_loader('../test_data.npy', batch_size, False)\n",
    "    \n",
    "    # Initialize and train model\n",
    "    dkt_model = DKT(NUM_QUESTIONS, hidden_size, num_layer)\n",
    "    dkt_model.train(train_loader, test_loader, epoch=10, lr=lr)\n",
    "    \n",
    "    # Return the AUC score to be maximized\n",
    "    return dkt_model.eval(test_loader)\n",
    "\n",
    "def run_optuna_optimization(n_trials=30):\n",
    "    study = optuna.create_study(direction='maximize')\n",
    "    study.optimize(objective, n_trials=n_trials)\n",
    "    \n",
    "    print(\"Best parameters:\", study.best_params)\n",
    "    print(\"Best AUC:\", study.best_value)\n",
    "    \n",
    "    # Optionally, plot optimization history\n",
    "    try:\n",
    "        optuna.visualization.plot_optimization_history(study)\n",
    "        optuna.visualization.plot_param_importances(study)\n",
    "    except:\n",
    "        print(\"Visualization requires plotly and other dependencies\")\n",
    "        \n",
    "    return study.best_params, study.best_value\n"
   ]
  },
  {
   "cell_type": "code",
   "execution_count": null,
   "metadata": {},
   "outputs": [],
   "source": [
    "best_params, best_auc = run_optuna_optimization(n_trials=20)"
   ]
  },
  {
   "cell_type": "code",
   "execution_count": null,
   "metadata": {},
   "outputs": [],
   "source": [
    "train_loader = get_data_loader('./train_data.npy', best_params['batch_size'], True)\n",
    "test_loader = get_data_loader('./test_data.npy', best_params['batch_size'], False)\n",
    "\n",
    "dkt = DKT(NUM_QUESTIONS, HIDDEN_SIZE, NUM_LAYERS)\n",
    "dkt.train(train_loader, test_loader, epoch=20)\n",
    "dkt.save(\"dkt.params\")\n"
   ]
  },
  {
   "cell_type": "code",
   "execution_count": null,
   "metadata": {},
   "outputs": [],
   "source": [
    "dkt.load(\"dkt.params\")\n",
    "auc = dkt.eval(test_loader)\n",
    "print(\"auc: %.6f\" % auc)"
   ]
  },
  {
   "cell_type": "code",
   "execution_count": null,
   "metadata": {},
   "outputs": [],
   "source": [
    "def process_raw_pred(raw_question_matrix, raw_pred, num_questions: int) -> tuple:\n",
    "    questions = torch.nonzero(raw_question_matrix)[1:, 1] % num_questions\n",
    "    length = questions.shape[0]\n",
    "    pred = raw_pred[: length]\n",
    "    pred = pred.gather(1, questions.view(-1, 1)).flatten()\n",
    "    truth = torch.nonzero(raw_question_matrix)[1:, 1] // num_questions\n",
    "    \n",
    "    return pred, truth\n",
    "\n",
    "def eval(model, test_data) -> float:\n",
    "    model.eval()\n",
    "    y_pred = torch.Tensor([])\n",
    "    y_truth = torch.Tensor([])\n",
    "    for batch in tqdm.tqdm(test_data, \"evaluating\"):\n",
    "        integrated_pred = model(batch)\n",
    "        batch_size = batch.shape[0]\n",
    "        for student in range(batch_size):\n",
    "            pred, truth = process_raw_pred(batch[student], integrated_pred[student], NUM_QUESTIONS)\n",
    "            y_pred = torch.cat([y_pred, pred])\n",
    "            y_truth = torch.cat([y_truth, truth])\n",
    "    return [y_pred, y_truth]"
   ]
  },
  {
   "cell_type": "code",
   "execution_count": null,
   "metadata": {},
   "outputs": [],
   "source": [
    "model = dkt.dkt_model\n",
    "\n",
    "y_pred, y_truth = eval(model, test_loader)\n",
    "\n",
    "print(y_pred[:10])\n",
    "print(y_truth.shape)\n",
    "\n",
    "y_pred_binary = (y_pred >= 0.5).float()\n",
    "print(\"Binary predictions:\", y_pred_binary)\n",
    "\n",
    "print(\"Accuracy:\", torch.sum(y_pred_binary == y_truth)/len(y_truth))\n",
    "print(\"y_pred_binary shape\", y_pred_binary.shape)\n",
    "roc_auc_score(y_truth.detach().numpy(), y_pred.detach().numpy())"
   ]
  },
  {
   "cell_type": "code",
   "execution_count": null,
   "metadata": {},
   "outputs": [],
   "source": [
    "model = dkt.dkt_model\n",
    "\n",
    "first_batch = next(iter(test_loader))\n",
    "first_batch_element = first_batch[0]\n",
    "first_batch_size_1 = first_batch_element.unsqueeze(0)\n",
    "model.eval()\n",
    "\n",
    "\n",
    "pred = model(first_batch_size_1)\n",
    "\n",
    "print(pred.shape)\n",
    "\n",
    "last_pred = pred[0, -1, :]\n",
    "\n",
    "print(pred)\n",
    "\n",
    "# new_dataset = first_batch_element.unsqueeze(0)\n",
    "\n",
    "# new_test_loader = Data.DataLoader(new_dataset, batch_size=1, shuffle=False)\n",
    "# print(new_test_loader.dataset.shape)\n",
    "# pred_y, true_y = eval(model, new_test_loader)\n",
    "# print(\"Predictions:\", pred_y)\n",
    "# print(\"Ground truth:\", true_y)\n",
    "# print(\"ROC AUC:\", roc_auc_score(true_y.detach().numpy(), pred_y.detach().numpy()))\n"
   ]
  }
 ],
 "metadata": {
  "kernelspec": {
   "display_name": ".venv",
   "language": "python",
   "name": "python3"
  },
  "language_info": {
   "codemirror_mode": {
    "name": "ipython",
    "version": 3
   },
   "file_extension": ".py",
   "mimetype": "text/x-python",
   "name": "python",
   "nbconvert_exporter": "python",
   "pygments_lexer": "ipython3",
   "version": "3.13.1"
  }
 },
 "nbformat": 4,
 "nbformat_minor": 2
}

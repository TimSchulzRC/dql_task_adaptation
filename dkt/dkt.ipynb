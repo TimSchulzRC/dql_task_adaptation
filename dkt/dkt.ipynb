{
 "cells": [
  {
   "cell_type": "markdown",
   "metadata": {},
   "source": [
    "# DKT Model"
   ]
  },
  {
   "cell_type": "code",
   "execution_count": 9,
   "metadata": {},
   "outputs": [],
   "source": [
    "import logging\n",
    "\n",
    "import numpy as np\n",
    "import torch\n",
    "import tqdm\n",
    "from torch import nn\n",
    "from torch.autograd import Variable\n",
    "from sklearn.metrics import roc_auc_score\n",
    "\n",
    "from EduKTM import KTM\n",
    "\n",
    "\n",
    "class Net(nn.Module):\n",
    "    def __init__(self, num_questions, hidden_size, num_layers):\n",
    "        super(Net, self).__init__()\n",
    "        self.hidden_dim = hidden_size\n",
    "        self.layer_dim = num_layers\n",
    "        self.rnn = nn.RNN(num_questions * 2, hidden_size, num_layers, batch_first=True)\n",
    "        self.fc = nn.Linear(self.hidden_dim, num_questions)\n",
    "\n",
    "    def forward(self, x):\n",
    "        h0 = Variable(torch.zeros(self.layer_dim, x.size(0), self.hidden_dim))\n",
    "        out, _ = self.rnn(x, h0)\n",
    "        res = torch.sigmoid(self.fc(out))\n",
    "        return res\n",
    "\n",
    "\n",
    "def process_raw_pred(raw_question_matrix, raw_pred, num_questions: int) -> tuple:\n",
    "    questions = torch.nonzero(raw_question_matrix)[1:, 1] % num_questions\n",
    "    length = questions.shape[0]\n",
    "    pred = raw_pred[: length]\n",
    "    pred = pred.gather(1, questions.view(-1, 1)).flatten()\n",
    "    truth = torch.nonzero(raw_question_matrix)[1:, 1] // num_questions\n",
    "    return pred, truth\n",
    "\n",
    "\n",
    "class DKT(KTM):\n",
    "    def __init__(self, num_questions, hidden_size, num_layers):\n",
    "        super(DKT, self).__init__()\n",
    "        self.num_questions = num_questions\n",
    "        self.dkt_model = Net(num_questions, hidden_size, num_layers)\n",
    "\n",
    "    def train(self, train_data, test_data=None, *, epoch: int, lr=0.002, optimizer_type='adam') -> ...:\n",
    "        loss_function = nn.BCELoss()\n",
    "        \n",
    "        # Select optimizer based on optimizer_type parameter\n",
    "        if optimizer_type.lower() == 'adam':\n",
    "            optimizer = torch.optim.Adam(self.dkt_model.parameters(), lr)\n",
    "        elif optimizer_type.lower() == 'sgd':\n",
    "            optimizer = torch.optim.SGD(self.dkt_model.parameters(), lr)\n",
    "        elif optimizer_type.lower() == 'rmsprop':\n",
    "            optimizer = torch.optim.RMSprop(self.dkt_model.parameters(), lr)\n",
    "        else:\n",
    "            # Default to Adam if unknown optimizer is specified\n",
    "            optimizer = torch.optim.Adam(self.dkt_model.parameters(), lr)\n",
    "\n",
    "        for e in range(epoch):\n",
    "            losses = []\n",
    "            # for batch in tqdm.tqdm(train_data, \"Epoch %s\" % e):\n",
    "            for batch in train_data:\n",
    "                integrated_pred = self.dkt_model(batch)\n",
    "                batch_size = batch.shape[0]\n",
    "                loss = torch.Tensor([0.0])\n",
    "                for student in range(batch_size):\n",
    "                    pred, truth = process_raw_pred(batch[student], integrated_pred[student], self.num_questions)\n",
    "                    if pred.shape[0] != 0:\n",
    "                        loss += loss_function(pred, truth.float())\n",
    "\n",
    "                # back propagation\n",
    "                optimizer.zero_grad()\n",
    "                loss.backward()\n",
    "                optimizer.step()\n",
    "\n",
    "                losses.append(loss.mean().item())\n",
    "            print(\"[Epoch %d] LogisticLoss: %.6f\" % (e, float(np.mean(losses))))\n",
    "\n",
    "            if test_data is not None:\n",
    "                auc = self.eval(test_data)\n",
    "                print(\"[Epoch %d] auc: %.6f\" % (e, auc))\n",
    "                \n",
    "            yield auc\n",
    "            \n",
    "\n",
    "    def eval(self, test_data) -> float:\n",
    "        self.dkt_model.eval()\n",
    "        y_pred = torch.Tensor([])\n",
    "        y_truth = torch.Tensor([])\n",
    "        # for batch in tqdm.tqdm(test_data, \"evaluating\"):\n",
    "        for batch in test_data:\n",
    "            integrated_pred = self.dkt_model(batch)\n",
    "            batch_size = batch.shape[0]\n",
    "            for student in range(batch_size):\n",
    "                pred, truth = process_raw_pred(batch[student], integrated_pred[student], self.num_questions)\n",
    "                y_pred = torch.cat([y_pred, pred])\n",
    "                y_truth = torch.cat([y_truth, truth])\n",
    "\n",
    "        return roc_auc_score(y_truth.detach().numpy(), y_pred.detach().numpy())\n",
    "\n",
    "    def save(self, filepath):\n",
    "        torch.save(self.dkt_model.state_dict(), filepath)\n",
    "        logging.info(\"save parameters to %s\" % filepath)\n",
    "\n",
    "    def load(self, filepath):\n",
    "        self.dkt_model.load_state_dict(torch.load(filepath))\n",
    "        logging.info(\"load parameters from %s\" % filepath)"
   ]
  },
  {
   "cell_type": "markdown",
   "metadata": {},
   "source": [
    "# Model Training"
   ]
  },
  {
   "cell_type": "code",
   "execution_count": 10,
   "metadata": {},
   "outputs": [],
   "source": [
    "import torch\n",
    "import torch.utils.data as Data\n",
    "import numpy as np\n",
    "import optuna"
   ]
  },
  {
   "cell_type": "code",
   "execution_count": null,
   "metadata": {},
   "outputs": [],
   "source": [
    "NUM_QUESTIONS = 9\n",
    "\n",
    "def get_train_val_loaders(batch_size, val_split=0.2, shuffle=True, data_percentage=1.0):\n",
    "    # Load the entire dataset\n",
    "    data = torch.FloatTensor(np.load('./train_data.npy'))\n",
    "    \n",
    "    # Apply data_percentage to reduce dataset size if needed\n",
    "    if data_percentage < 1.0:\n",
    "        total_samples = len(data)\n",
    "        samples_to_keep = int(total_samples * data_percentage)\n",
    "        if shuffle:\n",
    "            indices = torch.randperm(total_samples)[:samples_to_keep]\n",
    "            data = data[indices]\n",
    "        else:\n",
    "            data = data[:samples_to_keep]\n",
    "    \n",
    "    # Get dataset size and calculate split\n",
    "    dataset_size = len(data)\n",
    "    val_size = int(dataset_size * val_split)\n",
    "    train_size = dataset_size - val_size\n",
    "    \n",
    "    # Split the dataset\n",
    "    if shuffle:\n",
    "        indices = torch.randperm(dataset_size)\n",
    "        train_indices = indices[:train_size]\n",
    "        val_indices = indices[train_size:]\n",
    "        train_data = data[train_indices]\n",
    "        val_data = data[val_indices]\n",
    "    else:\n",
    "        train_data = data[:train_size]\n",
    "        val_data = data[train_size:]\n",
    "    \n",
    "    # Create data loaders\n",
    "    train_loader = Data.DataLoader(train_data, batch_size=batch_size, shuffle=shuffle)\n",
    "    val_loader = Data.DataLoader(val_data, batch_size=batch_size, shuffle=False)\n",
    "    \n",
    "    print(f\"Training samples: {train_size}, Validation samples: {val_size}\")\n",
    "    \n",
    "    return train_loader, val_loader\n",
    "\n",
    "def get_test_data_loader(batch_size, shuffle=False, data_percentage=1.0):\n",
    "    data = torch.FloatTensor(np.load('./test_data.npy'))\n",
    "    # Select only a percentage of the data\n",
    "    if data_percentage < 1.0:\n",
    "        total_samples = len(data)\n",
    "        samples_to_keep = int(total_samples * data_percentage)\n",
    "        if shuffle:\n",
    "            indices = torch.randperm(total_samples)[:samples_to_keep]\n",
    "            data = data[indices]\n",
    "        else:\n",
    "            data = data[:samples_to_keep]\n",
    "    \n",
    "    data_loader = Data.DataLoader(data, batch_size=batch_size, shuffle=shuffle)\n",
    "    return data_loader"
   ]
  },
  {
   "cell_type": "code",
   "execution_count": 12,
   "metadata": {},
   "outputs": [],
   "source": [
    "def importance_objective(trial):\n",
    "    # Define hyperparameters to optimize\n",
    "    hidden_size = trial.suggest_categorical('hidden_size', [5, 10, 20, 50, 100])\n",
    "    num_layer = trial.suggest_int('num_layers', 1, 3)\n",
    "    batch_size = trial.suggest_categorical('batch_size', [16, 32, 64, 128])\n",
    "    lr = trial.suggest_float('learning_rate', 1e-4, 1e-1, log=True)\n",
    "    optimizer = trial.suggest_categorical('optimizer', ['adam', 'sgd', 'rmsprop'])\n",
    "    \n",
    "    train_subset_loader, val_subset_loader = get_train_val_loaders(batch_size, data_percentage=0.3)\n",
    "    # test_subset_loader = get_test_data_loader( './test_data.npy', batch_size, False, 0.1)\n",
    "    \n",
    "    # Initialize and train model\n",
    "    dkt_model = DKT(NUM_QUESTIONS, hidden_size, num_layer)\n",
    "    for epoch, auc in enumerate(dkt_model.train(train_subset_loader, val_subset_loader, epoch=10, lr=lr, optimizer_type=optimizer)):\n",
    "        trial.report(auc, epoch)\n",
    "        if trial.should_prune():\n",
    "            raise optuna.TrialPruned()\n",
    "    \n",
    "    # Return the AUC score to be maximized\n",
    "    return dkt_model.eval(val_subset_loader)"
   ]
  },
  {
   "cell_type": "code",
   "execution_count": null,
   "metadata": {},
   "outputs": [
    {
     "name": "stderr",
     "output_type": "stream",
     "text": [
      "[I 2025-03-16 20:09:52,292] Using an existing study with name 'importances' instead of creating a new one.\n"
     ]
    },
    {
     "name": "stdout",
     "output_type": "stream",
     "text": [
      "Training samples: 3940, Validation samples: 985\n",
      "Training samples: 3940, Validation samples: 985Training samples: 3940, Validation samples: 985\n",
      "\n",
      "Training samples: 3940, Validation samples: 985\n",
      "[Epoch 0] LogisticLoss: 9.505960\n",
      "[Epoch 0] LogisticLoss: 9.105800\n",
      "[Epoch 0] LogisticLoss: 9.088813\n",
      "[Epoch 0] LogisticLoss: 9.117419\n"
     ]
    },
    {
     "name": "stderr",
     "output_type": "stream",
     "text": [
      "[I 2025-03-16 20:10:00,946] Trial 41 pruned. \n",
      "[I 2025-03-16 20:10:01,002] Trial 39 pruned. \n",
      "[I 2025-03-16 20:10:01,079] Trial 38 pruned. \n",
      "[I 2025-03-16 20:10:01,104] Trial 40 pruned. \n"
     ]
    },
    {
     "name": "stdout",
     "output_type": "stream",
     "text": [
      "[Epoch 0] auc: 0.764472\n",
      "[Epoch 0] auc: 0.763816\n",
      "[Epoch 0] auc: 0.770567\n",
      "[Epoch 0] auc: 0.772576\n",
      "Training samples: 3940, Validation samples: 985\n",
      "Training samples: 3940, Validation samples: 985\n",
      "Training samples: 3940, Validation samples: 985\n",
      "Training samples: 3940, Validation samples: 985\n",
      "[Epoch 0] LogisticLoss: 80.239522\n"
     ]
    },
    {
     "name": "stderr",
     "output_type": "stream",
     "text": [
      "[I 2025-03-16 20:10:08,632] Trial 45 pruned. \n"
     ]
    },
    {
     "name": "stdout",
     "output_type": "stream",
     "text": [
      "[Epoch 0] auc: 0.765649\n",
      "[Epoch 0] LogisticLoss: 8.612119\n",
      "[Epoch 0] LogisticLoss: 8.696094\n",
      "[Epoch 0] LogisticLoss: 8.629496\n",
      "[Epoch 0] auc: 0.803859\n",
      "[Epoch 0] auc: 0.801858\n",
      "[Epoch 0] auc: 0.798506\n",
      "[Epoch 1] LogisticLoss: 8.081160\n",
      "[Epoch 1] LogisticLoss: 8.042658\n",
      "[Epoch 1] LogisticLoss: 8.030957\n",
      "[Epoch 1] auc: 0.807604\n",
      "[Epoch 1] auc: 0.808061\n",
      "[Epoch 1] auc: 0.812101\n"
     ]
    }
   ],
   "source": [
    "study = optuna.create_study(study_name=\"importances\", storage=\"sqlite:///studies.db\", load_if_exists=True, direction='maximize')\n",
    "study.optimize(importance_objective, n_trials=30, n_jobs=4)"
   ]
  },
  {
   "cell_type": "code",
   "execution_count": null,
   "metadata": {},
   "outputs": [
    {
     "name": "stdout",
     "output_type": "stream",
     "text": [
      "Best parameters: {'hidden_size': 50, 'num_layers': 3, 'batch_size': 64, 'learning_rate': 0.005026360165040225, 'optimizer': 'adam'}\n",
      "Best AUC: 0.8248811879218874\n"
     ]
    },
    {
     "data": {
      "application/vnd.plotly.v1+json": {
       "config": {
        "plotlyServerURL": "https://plot.ly"
       },
       "data": [
        {
         "cliponaxis": false,
         "hovertemplate": [
          "num_layers (IntDistribution): 0.004801064180589866<extra></extra>",
          "learning_rate (FloatDistribution): 0.028663086710072356<extra></extra>",
          "optimizer (CategoricalDistribution): 0.09538484888465158<extra></extra>",
          "batch_size (CategoricalDistribution): 0.36066049565526337<extra></extra>",
          "hidden_size (CategoricalDistribution): 0.5104905045694227<extra></extra>"
         ],
         "name": "Objective Value",
         "orientation": "h",
         "text": [
          "<0.01",
          "0.03",
          "0.10",
          "0.36",
          "0.51"
         ],
         "textposition": "outside",
         "type": "bar",
         "x": [
          0.004801064180589866,
          0.028663086710072356,
          0.09538484888465158,
          0.36066049565526337,
          0.5104905045694227
         ],
         "y": [
          "num_layers",
          "learning_rate",
          "optimizer",
          "batch_size",
          "hidden_size"
         ]
        }
       ],
       "layout": {
        "template": {
         "data": {
          "bar": [
           {
            "error_x": {
             "color": "#2a3f5f"
            },
            "error_y": {
             "color": "#2a3f5f"
            },
            "marker": {
             "line": {
              "color": "#E5ECF6",
              "width": 0.5
             },
             "pattern": {
              "fillmode": "overlay",
              "size": 10,
              "solidity": 0.2
             }
            },
            "type": "bar"
           }
          ],
          "barpolar": [
           {
            "marker": {
             "line": {
              "color": "#E5ECF6",
              "width": 0.5
             },
             "pattern": {
              "fillmode": "overlay",
              "size": 10,
              "solidity": 0.2
             }
            },
            "type": "barpolar"
           }
          ],
          "carpet": [
           {
            "aaxis": {
             "endlinecolor": "#2a3f5f",
             "gridcolor": "white",
             "linecolor": "white",
             "minorgridcolor": "white",
             "startlinecolor": "#2a3f5f"
            },
            "baxis": {
             "endlinecolor": "#2a3f5f",
             "gridcolor": "white",
             "linecolor": "white",
             "minorgridcolor": "white",
             "startlinecolor": "#2a3f5f"
            },
            "type": "carpet"
           }
          ],
          "choropleth": [
           {
            "colorbar": {
             "outlinewidth": 0,
             "ticks": ""
            },
            "type": "choropleth"
           }
          ],
          "contour": [
           {
            "colorbar": {
             "outlinewidth": 0,
             "ticks": ""
            },
            "colorscale": [
             [
              0,
              "#0d0887"
             ],
             [
              0.1111111111111111,
              "#46039f"
             ],
             [
              0.2222222222222222,
              "#7201a8"
             ],
             [
              0.3333333333333333,
              "#9c179e"
             ],
             [
              0.4444444444444444,
              "#bd3786"
             ],
             [
              0.5555555555555556,
              "#d8576b"
             ],
             [
              0.6666666666666666,
              "#ed7953"
             ],
             [
              0.7777777777777778,
              "#fb9f3a"
             ],
             [
              0.8888888888888888,
              "#fdca26"
             ],
             [
              1,
              "#f0f921"
             ]
            ],
            "type": "contour"
           }
          ],
          "contourcarpet": [
           {
            "colorbar": {
             "outlinewidth": 0,
             "ticks": ""
            },
            "type": "contourcarpet"
           }
          ],
          "heatmap": [
           {
            "colorbar": {
             "outlinewidth": 0,
             "ticks": ""
            },
            "colorscale": [
             [
              0,
              "#0d0887"
             ],
             [
              0.1111111111111111,
              "#46039f"
             ],
             [
              0.2222222222222222,
              "#7201a8"
             ],
             [
              0.3333333333333333,
              "#9c179e"
             ],
             [
              0.4444444444444444,
              "#bd3786"
             ],
             [
              0.5555555555555556,
              "#d8576b"
             ],
             [
              0.6666666666666666,
              "#ed7953"
             ],
             [
              0.7777777777777778,
              "#fb9f3a"
             ],
             [
              0.8888888888888888,
              "#fdca26"
             ],
             [
              1,
              "#f0f921"
             ]
            ],
            "type": "heatmap"
           }
          ],
          "histogram": [
           {
            "marker": {
             "pattern": {
              "fillmode": "overlay",
              "size": 10,
              "solidity": 0.2
             }
            },
            "type": "histogram"
           }
          ],
          "histogram2d": [
           {
            "colorbar": {
             "outlinewidth": 0,
             "ticks": ""
            },
            "colorscale": [
             [
              0,
              "#0d0887"
             ],
             [
              0.1111111111111111,
              "#46039f"
             ],
             [
              0.2222222222222222,
              "#7201a8"
             ],
             [
              0.3333333333333333,
              "#9c179e"
             ],
             [
              0.4444444444444444,
              "#bd3786"
             ],
             [
              0.5555555555555556,
              "#d8576b"
             ],
             [
              0.6666666666666666,
              "#ed7953"
             ],
             [
              0.7777777777777778,
              "#fb9f3a"
             ],
             [
              0.8888888888888888,
              "#fdca26"
             ],
             [
              1,
              "#f0f921"
             ]
            ],
            "type": "histogram2d"
           }
          ],
          "histogram2dcontour": [
           {
            "colorbar": {
             "outlinewidth": 0,
             "ticks": ""
            },
            "colorscale": [
             [
              0,
              "#0d0887"
             ],
             [
              0.1111111111111111,
              "#46039f"
             ],
             [
              0.2222222222222222,
              "#7201a8"
             ],
             [
              0.3333333333333333,
              "#9c179e"
             ],
             [
              0.4444444444444444,
              "#bd3786"
             ],
             [
              0.5555555555555556,
              "#d8576b"
             ],
             [
              0.6666666666666666,
              "#ed7953"
             ],
             [
              0.7777777777777778,
              "#fb9f3a"
             ],
             [
              0.8888888888888888,
              "#fdca26"
             ],
             [
              1,
              "#f0f921"
             ]
            ],
            "type": "histogram2dcontour"
           }
          ],
          "mesh3d": [
           {
            "colorbar": {
             "outlinewidth": 0,
             "ticks": ""
            },
            "type": "mesh3d"
           }
          ],
          "parcoords": [
           {
            "line": {
             "colorbar": {
              "outlinewidth": 0,
              "ticks": ""
             }
            },
            "type": "parcoords"
           }
          ],
          "pie": [
           {
            "automargin": true,
            "type": "pie"
           }
          ],
          "scatter": [
           {
            "fillpattern": {
             "fillmode": "overlay",
             "size": 10,
             "solidity": 0.2
            },
            "type": "scatter"
           }
          ],
          "scatter3d": [
           {
            "line": {
             "colorbar": {
              "outlinewidth": 0,
              "ticks": ""
             }
            },
            "marker": {
             "colorbar": {
              "outlinewidth": 0,
              "ticks": ""
             }
            },
            "type": "scatter3d"
           }
          ],
          "scattercarpet": [
           {
            "marker": {
             "colorbar": {
              "outlinewidth": 0,
              "ticks": ""
             }
            },
            "type": "scattercarpet"
           }
          ],
          "scattergeo": [
           {
            "marker": {
             "colorbar": {
              "outlinewidth": 0,
              "ticks": ""
             }
            },
            "type": "scattergeo"
           }
          ],
          "scattergl": [
           {
            "marker": {
             "colorbar": {
              "outlinewidth": 0,
              "ticks": ""
             }
            },
            "type": "scattergl"
           }
          ],
          "scattermap": [
           {
            "marker": {
             "colorbar": {
              "outlinewidth": 0,
              "ticks": ""
             }
            },
            "type": "scattermap"
           }
          ],
          "scattermapbox": [
           {
            "marker": {
             "colorbar": {
              "outlinewidth": 0,
              "ticks": ""
             }
            },
            "type": "scattermapbox"
           }
          ],
          "scatterpolar": [
           {
            "marker": {
             "colorbar": {
              "outlinewidth": 0,
              "ticks": ""
             }
            },
            "type": "scatterpolar"
           }
          ],
          "scatterpolargl": [
           {
            "marker": {
             "colorbar": {
              "outlinewidth": 0,
              "ticks": ""
             }
            },
            "type": "scatterpolargl"
           }
          ],
          "scatterternary": [
           {
            "marker": {
             "colorbar": {
              "outlinewidth": 0,
              "ticks": ""
             }
            },
            "type": "scatterternary"
           }
          ],
          "surface": [
           {
            "colorbar": {
             "outlinewidth": 0,
             "ticks": ""
            },
            "colorscale": [
             [
              0,
              "#0d0887"
             ],
             [
              0.1111111111111111,
              "#46039f"
             ],
             [
              0.2222222222222222,
              "#7201a8"
             ],
             [
              0.3333333333333333,
              "#9c179e"
             ],
             [
              0.4444444444444444,
              "#bd3786"
             ],
             [
              0.5555555555555556,
              "#d8576b"
             ],
             [
              0.6666666666666666,
              "#ed7953"
             ],
             [
              0.7777777777777778,
              "#fb9f3a"
             ],
             [
              0.8888888888888888,
              "#fdca26"
             ],
             [
              1,
              "#f0f921"
             ]
            ],
            "type": "surface"
           }
          ],
          "table": [
           {
            "cells": {
             "fill": {
              "color": "#EBF0F8"
             },
             "line": {
              "color": "white"
             }
            },
            "header": {
             "fill": {
              "color": "#C8D4E3"
             },
             "line": {
              "color": "white"
             }
            },
            "type": "table"
           }
          ]
         },
         "layout": {
          "annotationdefaults": {
           "arrowcolor": "#2a3f5f",
           "arrowhead": 0,
           "arrowwidth": 1
          },
          "autotypenumbers": "strict",
          "coloraxis": {
           "colorbar": {
            "outlinewidth": 0,
            "ticks": ""
           }
          },
          "colorscale": {
           "diverging": [
            [
             0,
             "#8e0152"
            ],
            [
             0.1,
             "#c51b7d"
            ],
            [
             0.2,
             "#de77ae"
            ],
            [
             0.3,
             "#f1b6da"
            ],
            [
             0.4,
             "#fde0ef"
            ],
            [
             0.5,
             "#f7f7f7"
            ],
            [
             0.6,
             "#e6f5d0"
            ],
            [
             0.7,
             "#b8e186"
            ],
            [
             0.8,
             "#7fbc41"
            ],
            [
             0.9,
             "#4d9221"
            ],
            [
             1,
             "#276419"
            ]
           ],
           "sequential": [
            [
             0,
             "#0d0887"
            ],
            [
             0.1111111111111111,
             "#46039f"
            ],
            [
             0.2222222222222222,
             "#7201a8"
            ],
            [
             0.3333333333333333,
             "#9c179e"
            ],
            [
             0.4444444444444444,
             "#bd3786"
            ],
            [
             0.5555555555555556,
             "#d8576b"
            ],
            [
             0.6666666666666666,
             "#ed7953"
            ],
            [
             0.7777777777777778,
             "#fb9f3a"
            ],
            [
             0.8888888888888888,
             "#fdca26"
            ],
            [
             1,
             "#f0f921"
            ]
           ],
           "sequentialminus": [
            [
             0,
             "#0d0887"
            ],
            [
             0.1111111111111111,
             "#46039f"
            ],
            [
             0.2222222222222222,
             "#7201a8"
            ],
            [
             0.3333333333333333,
             "#9c179e"
            ],
            [
             0.4444444444444444,
             "#bd3786"
            ],
            [
             0.5555555555555556,
             "#d8576b"
            ],
            [
             0.6666666666666666,
             "#ed7953"
            ],
            [
             0.7777777777777778,
             "#fb9f3a"
            ],
            [
             0.8888888888888888,
             "#fdca26"
            ],
            [
             1,
             "#f0f921"
            ]
           ]
          },
          "colorway": [
           "#636efa",
           "#EF553B",
           "#00cc96",
           "#ab63fa",
           "#FFA15A",
           "#19d3f3",
           "#FF6692",
           "#B6E880",
           "#FF97FF",
           "#FECB52"
          ],
          "font": {
           "color": "#2a3f5f"
          },
          "geo": {
           "bgcolor": "white",
           "lakecolor": "white",
           "landcolor": "#E5ECF6",
           "showlakes": true,
           "showland": true,
           "subunitcolor": "white"
          },
          "hoverlabel": {
           "align": "left"
          },
          "hovermode": "closest",
          "mapbox": {
           "style": "light"
          },
          "paper_bgcolor": "white",
          "plot_bgcolor": "#E5ECF6",
          "polar": {
           "angularaxis": {
            "gridcolor": "white",
            "linecolor": "white",
            "ticks": ""
           },
           "bgcolor": "#E5ECF6",
           "radialaxis": {
            "gridcolor": "white",
            "linecolor": "white",
            "ticks": ""
           }
          },
          "scene": {
           "xaxis": {
            "backgroundcolor": "#E5ECF6",
            "gridcolor": "white",
            "gridwidth": 2,
            "linecolor": "white",
            "showbackground": true,
            "ticks": "",
            "zerolinecolor": "white"
           },
           "yaxis": {
            "backgroundcolor": "#E5ECF6",
            "gridcolor": "white",
            "gridwidth": 2,
            "linecolor": "white",
            "showbackground": true,
            "ticks": "",
            "zerolinecolor": "white"
           },
           "zaxis": {
            "backgroundcolor": "#E5ECF6",
            "gridcolor": "white",
            "gridwidth": 2,
            "linecolor": "white",
            "showbackground": true,
            "ticks": "",
            "zerolinecolor": "white"
           }
          },
          "shapedefaults": {
           "line": {
            "color": "#2a3f5f"
           }
          },
          "ternary": {
           "aaxis": {
            "gridcolor": "white",
            "linecolor": "white",
            "ticks": ""
           },
           "baxis": {
            "gridcolor": "white",
            "linecolor": "white",
            "ticks": ""
           },
           "bgcolor": "#E5ECF6",
           "caxis": {
            "gridcolor": "white",
            "linecolor": "white",
            "ticks": ""
           }
          },
          "title": {
           "x": 0.05
          },
          "xaxis": {
           "automargin": true,
           "gridcolor": "white",
           "linecolor": "white",
           "ticks": "",
           "title": {
            "standoff": 15
           },
           "zerolinecolor": "white",
           "zerolinewidth": 2
          },
          "yaxis": {
           "automargin": true,
           "gridcolor": "white",
           "linecolor": "white",
           "ticks": "",
           "title": {
            "standoff": 15
           },
           "zerolinecolor": "white",
           "zerolinewidth": 2
          }
         }
        },
        "title": {
         "text": "Hyperparameter Importances"
        },
        "xaxis": {
         "title": {
          "text": "Hyperparameter Importance"
         }
        },
        "yaxis": {
         "title": {
          "text": "Hyperparameter"
         }
        }
       }
      }
     },
     "metadata": {},
     "output_type": "display_data"
    }
   ],
   "source": [
    "print(f\"Best parameters: {study.best_params}\")\n",
    "print(f\"Best AUC: {study.best_value}\")\n",
    "\n",
    "optuna.visualization.plot_optimization_history(study)\n",
    "optuna.visualization.plot_param_importances(study)"
   ]
  },
  {
   "cell_type": "code",
   "execution_count": null,
   "metadata": {},
   "outputs": [],
   "source": [
    "# def detailed_objective(trial):\n",
    "#     # Define hyperparameters to optimize\n",
    "#     hidden_size = trial.suggest_categorical('hidden_size', [5, 10, 20, 50, 100])\n",
    "#     num_layer = trial.suggest_int('num_layers', 1, 3)\n",
    "#     batch_size = trial.suggest_categorical('batch_size', [16, 32, 64, 128])\n",
    "#     lr = trial.suggest_float('learning_rate', 1e-4, 1e-1, log=True)\n",
    "    \n",
    "#     train_loader, val_loader = get_train_val_loaders( './train_data.npy', batch_size, True, 1.0)\n",
    "#     test_loader = get_test_data_loader( './test_data.npy', batch_size, False, 1.0)\n",
    "    \n",
    "#     # Initialize and train model\n",
    "#     dkt_model = DKT(NUM_QUESTIONS, hidden_size, num_layer)\n",
    "#     dkt_model.train(train_loader, test_loader, epoch=20, lr=lr)\n",
    "    \n",
    "#     # Return the AUC score to be maximized\n",
    "#     return dkt_model.eval(test_loader)"
   ]
  },
  {
   "cell_type": "code",
   "execution_count": null,
   "metadata": {},
   "outputs": [],
   "source": [
    "# detailed_objective(study.best_trial)"
   ]
  },
  {
   "cell_type": "code",
   "execution_count": null,
   "metadata": {},
   "outputs": [],
   "source": [
    "# best_params = study.best_params\n",
    "\n",
    "# train_loader = get_data_loader('./train_data.npy', best_params['batch_size'], True)\n",
    "# test_loader = get_data_loader('./test_data.npy', best_params['batch_size'], False)\n",
    "\n",
    "# dkt = DKT(NUM_QUESTIONS, best_params['hidden_size'], best_params['num_layers'])\n",
    "# dkt.train(train_loader, test_loader, epoch=10, lr=best_params['learning_rate'])\n",
    "# dkt.save(\"dkt.params\")\n"
   ]
  },
  {
   "cell_type": "code",
   "execution_count": null,
   "metadata": {},
   "outputs": [],
   "source": [
    "# dkt.load(\"dkt.params\")\n",
    "# auc = dkt.eval(test_loader)\n",
    "# print(\"auc: %.6f\" % auc)"
   ]
  }
 ],
 "metadata": {
  "kernelspec": {
   "display_name": ".venv",
   "language": "python",
   "name": "python3"
  },
  "language_info": {
   "codemirror_mode": {
    "name": "ipython",
    "version": 3
   },
   "file_extension": ".py",
   "mimetype": "text/x-python",
   "name": "python",
   "nbconvert_exporter": "python",
   "pygments_lexer": "ipython3",
   "version": "3.13.2"
  }
 },
 "nbformat": 4,
 "nbformat_minor": 2
}

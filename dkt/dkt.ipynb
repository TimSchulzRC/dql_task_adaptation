{
 "cells": [
  {
   "cell_type": "markdown",
   "metadata": {},
   "source": [
    "# Model Training"
   ]
  },
  {
   "cell_type": "code",
   "execution_count": null,
   "metadata": {},
   "outputs": [],
   "source": [
    "from EduKTM import DKT\n",
    "import torch\n",
    "import torch.utils.data as Data\n",
    "import numpy as np\n",
    "from sklearn.metrics import roc_auc_score\n",
    "import optuna"
   ]
  },
  {
   "cell_type": "code",
   "execution_count": null,
   "metadata": {},
   "outputs": [],
   "source": [
    "NUM_QUESTIONS = 9\n",
    "\n",
    "def get_data_loader(data_path, batch_size, shuffle=False, data_percentage=1.0):\n",
    "    data = torch.FloatTensor(np.load(data_path))\n",
    "    # Select only a percentage of the data\n",
    "    if data_percentage < 1.0:\n",
    "        total_samples = len(data)\n",
    "        samples_to_keep = int(total_samples * data_percentage)\n",
    "        if shuffle:\n",
    "            indices = torch.randperm(total_samples)[:samples_to_keep]\n",
    "            data = data[indices]\n",
    "        else:\n",
    "            data = data[:samples_to_keep]\n",
    "    \n",
    "    data_loader = Data.DataLoader(data, batch_size=batch_size, shuffle=shuffle)\n",
    "    return data_loader"
   ]
  },
  {
   "cell_type": "code",
   "execution_count": null,
   "metadata": {},
   "outputs": [],
   "source": [
    "def importance_objective(trial):\n",
    "    # Define hyperparameters to optimize\n",
    "    hidden_size = trial.suggest_categorical('hidden_size', [5, 10, 20, 50, 100])\n",
    "    num_layer = trial.suggest_int('num_layers', 1, 3)\n",
    "    batch_size = trial.suggest_categorical('batch_size', [16, 32, 64, 128])\n",
    "    lr = trial.suggest_float('learning_rate', 1e-4, 1e-1, log=True)\n",
    "    \n",
    "    train_subset_loader = get_data_loader( './train_data.npy', batch_size, True, 0.1)\n",
    "    test_subset_loader = get_data_loader( './test_data.npy', batch_size, False, 0.1)\n",
    "    \n",
    "    # Initialize and train model\n",
    "    dkt_model = DKT(NUM_QUESTIONS, hidden_size, num_layer)\n",
    "    dkt_model.train(train_subset_loader, test_subset_loader, epoch=10, lr=lr)\n",
    "    \n",
    "    # Return the AUC score to be maximized\n",
    "    return dkt_model.eval(test_subset_loader)"
   ]
  },
  {
   "cell_type": "code",
   "execution_count": null,
   "metadata": {},
   "outputs": [],
   "source": [
    "study = optuna.create_study(study_name=\"importances\", storage=\"sqlite:///importancees_study.db\", load_if_exists=True, direction='maximize')\n",
    "study.optimize(importance_objective, n_trials=30, n_jobs=4)"
   ]
  },
  {
   "cell_type": "code",
   "execution_count": null,
   "metadata": {},
   "outputs": [],
   "source": [
    "print(f\"Best parameters: {study.best_params}\")\n",
    "print(f\"Best AUC: {study.best_value}\")\n",
    "\n",
    "optuna.visualization.plot_optimization_history(study)\n",
    "optuna.visualization.plot_param_importances(study)"
   ]
  },
  {
   "cell_type": "code",
   "execution_count": null,
   "metadata": {},
   "outputs": [],
   "source": [
    "# train_loader = get_data_loader('./train_data.npy', best_params['batch_size'], True)\n",
    "# test_loader = get_data_loader('./test_data.npy', best_params['batch_size'], False)\n",
    "\n",
    "# dkt = DKT(NUM_QUESTIONS, HIDDEN_SIZE, NUM_LAYERS)\n",
    "# dkt.train(train_loader, test_loader, epoch=20)\n",
    "# dkt.save(\"dkt.params\")\n"
   ]
  },
  {
   "cell_type": "code",
   "execution_count": null,
   "metadata": {},
   "outputs": [],
   "source": [
    "# dkt.load(\"dkt.params\")\n",
    "# auc = dkt.eval(test_loader)\n",
    "# print(\"auc: %.6f\" % auc)"
   ]
  }
 ],
 "metadata": {
  "kernelspec": {
   "display_name": ".venv",
   "language": "python",
   "name": "python3"
  },
  "language_info": {
   "codemirror_mode": {
    "name": "ipython",
    "version": 3
   },
   "file_extension": ".py",
   "mimetype": "text/x-python",
   "name": "python",
   "nbconvert_exporter": "python",
   "pygments_lexer": "ipython3",
   "version": "3.13.2"
  }
 },
 "nbformat": 4,
 "nbformat_minor": 2
}

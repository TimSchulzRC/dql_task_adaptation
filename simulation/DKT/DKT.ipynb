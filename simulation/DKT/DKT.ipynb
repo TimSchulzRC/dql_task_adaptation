{
 "cells": [
  {
   "cell_type": "code",
   "execution_count": 65,
   "metadata": {},
   "outputs": [],
   "source": [
    "import numpy as np\n",
    "import torch\n",
    "import torch.utils.data as Data\n",
    "from torch.utils.data.dataset import Dataset\n",
    "import tqdm\n",
    "\n",
    "\n",
    "NUM_QUESTIONS = 9\n",
    "BATCH_SIZE = 64\n",
    "HIDDEN_SIZE = 10\n",
    "NUM_LAYERS = 1\n",
    "\n",
    "\n",
    "def get_data_loader(data_path, batch_size, shuffle=False):\n",
    "    data = torch.FloatTensor(np.load(data_path))\n",
    "    data_loader = Data.DataLoader(data, batch_size=batch_size, shuffle=shuffle)\n",
    "    return data_loader\n",
    "\n",
    "\n",
    "train_loader = get_data_loader('train_data.npy', BATCH_SIZE, True)\n",
    "test_loader = get_data_loader('test_data.npy', BATCH_SIZE, False)"
   ]
  },
  {
   "cell_type": "code",
   "execution_count": 66,
   "metadata": {},
   "outputs": [],
   "source": [
    "import logging\n",
    "logging.getLogger().setLevel(logging.INFO)"
   ]
  },
  {
   "cell_type": "code",
   "execution_count": null,
   "metadata": {
    "scrolled": true
   },
   "outputs": [
    {
     "name": "stderr",
     "output_type": "stream",
     "text": [
      "Epoch 0: 100%|██████████| 493/493 [00:03<00:00, 129.72it/s]\n"
     ]
    },
    {
     "name": "stdout",
     "output_type": "stream",
     "text": [
      "[Epoch 0] LogisticLoss: 32.929463\n"
     ]
    },
    {
     "name": "stderr",
     "output_type": "stream",
     "text": [
      "Epoch 1: 100%|██████████| 493/493 [00:03<00:00, 138.92it/s]\n",
      "INFO:root:save parameters to dkt.params\n"
     ]
    },
    {
     "name": "stdout",
     "output_type": "stream",
     "text": [
      "[Epoch 1] LogisticLoss: 31.961271\n"
     ]
    }
   ],
   "source": [
    "from EduKTM import DKT\n",
    "\n",
    "dkt = DKT(NUM_QUESTIONS, HIDDEN_SIZE, NUM_LAYERS)\n",
    "dkt.train(train_loader, epoch=10)\n",
    "dkt.save(\"dkt.params\")"
   ]
  },
  {
   "cell_type": "code",
   "execution_count": 68,
   "metadata": {},
   "outputs": [
    {
     "name": "stderr",
     "output_type": "stream",
     "text": [
      "INFO:root:load parameters from dkt.params\n",
      "evaluating: 100%|██████████| 211/211 [00:01<00:00, 109.58it/s]\n"
     ]
    },
    {
     "name": "stdout",
     "output_type": "stream",
     "text": [
      "auc: 0.526879\n"
     ]
    }
   ],
   "source": [
    "dkt.load(\"dkt.params\")\n",
    "auc = dkt.eval(test_loader)\n",
    "print(\"auc: %.6f\" % auc)"
   ]
  }
 ],
 "metadata": {
  "kernelspec": {
   "display_name": ".venv",
   "language": "python",
   "name": "python3"
  },
  "language_info": {
   "codemirror_mode": {
    "name": "ipython",
    "version": 3
   },
   "file_extension": ".py",
   "mimetype": "text/x-python",
   "name": "python",
   "nbconvert_exporter": "python",
   "pygments_lexer": "ipython3",
   "version": "3.13.3"
  }
 },
 "nbformat": 4,
 "nbformat_minor": 1
}
